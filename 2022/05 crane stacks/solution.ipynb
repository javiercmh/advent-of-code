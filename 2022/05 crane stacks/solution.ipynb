{
 "cells": [
  {
   "cell_type": "markdown",
   "metadata": {},
   "source": [
    "--- Day 5: Supply Stacks ---\n",
    "\n",
    "The expedition can depart as soon as the final supplies have been unloaded from the ships. Supplies are stored in stacks of marked crates, but because the needed supplies are buried under many other crates, the crates need to be rearranged.\n",
    "\n",
    "The ship has a giant cargo crane capable of moving crates between stacks. To ensure none of the crates get crushed or fall over, the crane operator will rearrange them in a series of carefully-planned steps. After the crates are rearranged, the desired crates will be at the top of each stack.\n",
    "\n",
    "The Elves don't want to interrupt the crane operator during this delicate procedure, but they forgot to ask her which crate will end up where, and they want to be ready to unload them as soon as possible so they can embark.\n",
    "\n",
    "They do, however, have a drawing of the starting stacks of crates and the rearrangement procedure (your puzzle input). For example:\n",
    "\n",
    "```\n",
    "    [D]    \n",
    "[N] [C]    \n",
    "[Z] [M] [P]\n",
    " 1   2   3 \n",
    "\n",
    "move 1 from 2 to 1\n",
    "move 3 from 1 to 3\n",
    "move 2 from 2 to 1\n",
    "move 1 from 1 to 2\n",
    "```\n",
    "\n",
    "In this example, there are three stacks of crates. Stack 1 contains two crates: crate Z is on the bottom, and crate N is on top. Stack 2 contains three crates; from bottom to top, they are crates M, C, and D. Finally, stack 3 contains a single crate, P.\n",
    "\n",
    "Then, the rearrangement procedure is given. In each step of the procedure, a quantity of crates is moved from one stack to a different stack. In the first step of the above rearrangement procedure, one crate is moved from stack 2 to stack 1, resulting in this configuration:\n",
    "\n",
    "```\n",
    "[D]        \n",
    "[N] [C]    \n",
    "[Z] [M] [P]\n",
    " 1   2   3 \n",
    "``` \n",
    "\n",
    "In the second step, three crates are moved from stack 1 to stack 3. Crates are moved one at a time, so the first crate to be moved (D) ends up below the second and third crates:\n",
    "\n",
    "```\n",
    "        [Z]\n",
    "        [N]\n",
    "    [C] [D]\n",
    "    [M] [P]\n",
    " 1   2   3\n",
    "```\n",
    "\n",
    "Then, both crates are moved from stack 2 to stack 1. Again, because crates are moved one at a time, crate C ends up below crate M:\n",
    "\n",
    "```\n",
    "        [Z]\n",
    "        [N]\n",
    "[M]     [D]\n",
    "[C]     [P]\n",
    " 1   2   3\n",
    "```\n",
    "\n",
    "Finally, one crate is moved from stack 1 to stack 2:\n",
    "\n",
    "```\n",
    "        [Z]\n",
    "        [N]\n",
    "        [D]\n",
    "[C] [M] [P]\n",
    " 1   2   3\n",
    "```\n",
    "\n",
    "The Elves just need to know which crate will end up on top of each stack; in this example, the top crates are C in stack 1, M in stack 2, and Z in stack 3, so you should combine these together and give the Elves the message CMZ.\n",
    "\n",
    "After the rearrangement procedure completes, what crate ends up on top of each stack?\n",
    "\n"
   ]
  },
  {
   "cell_type": "code",
   "execution_count": 80,
   "metadata": {},
   "outputs": [],
   "source": [
    "import re\n",
    "\n",
    "path = \"stacks and moves example.txt\"\n",
    "width = 3"
   ]
  },
  {
   "cell_type": "code",
   "execution_count": 81,
   "metadata": {},
   "outputs": [
    {
     "data": {
      "text/plain": [
       "{1: ['Z', 'N'], 2: ['M', 'C', 'D'], 3: ['P']}"
      ]
     },
     "execution_count": 81,
     "metadata": {},
     "output_type": "execute_result"
    }
   ],
   "source": [
    "\"\"\"\n",
    "    [D]    \n",
    "[N] [C]    \n",
    "[Z] [M] [P]\n",
    " 1   2   3 \n",
    "\"\"\"\n",
    "\n",
    "def process_input():\n",
    "    \"\"\"Process input and return a dictionary of stacks of characters.\"\"\"\n",
    "\n",
    "    stacks = {i: [] for i in range(1, width + 1)}\n",
    "    total_width = width * 4 - 1\n",
    "\n",
    "    with open(path, \"r\") as f:\n",
    "        \n",
    "        while True:\n",
    "            row = f.readline()[:-1]\n",
    "            if \" 1 \" in row:\n",
    "                break\n",
    "\n",
    "            regex = r\"(.{3}) \" * width\n",
    "            groups = re.search(regex[:-1], row).groups()\n",
    "\n",
    "            for i, group in enumerate(groups):\n",
    "                if \"[\" in group:\n",
    "                    stacks[i + 1].insert(0, group[1])\n",
    "\n",
    "    return stacks\n",
    "\n",
    "stacks = process_input()\n",
    "stacks"
   ]
  },
  {
   "cell_type": "code",
   "execution_count": 75,
   "metadata": {},
   "outputs": [
    {
     "name": "stdout",
     "output_type": "stream",
     "text": [
      "{1: ['W', 'D', 'G', 'B', 'H', 'R', 'V'], 2: ['J', 'N', 'G', 'C', 'R', 'F'], 3: ['L', 'S', 'F', 'H', 'D', 'N', 'J'], 4: ['J', 'D', 'S', 'V'], 5: ['S', 'H', 'D', 'R', 'Q', 'W', 'N', 'V'], 6: ['P', 'G', 'H', 'C', 'M'], 7: ['F', 'J', 'B', 'G', 'L', 'Z', 'H', 'C'], 8: ['S', 'J', 'R'], 9: ['L', 'G', 'S', 'R', 'B', 'N', 'V', 'M']}\n"
     ]
    },
    {
     "data": {
      "text/plain": [
       "{1: ['W', 'D', 'G', 'B', 'H', 'R', 'V'],\n",
       " 2: ['J', 'N', 'G', 'C'],\n",
       " 3: ['L', 'S', 'F', 'H', 'D', 'N', 'J', 'F', 'R'],\n",
       " 4: ['J', 'D', 'S', 'V'],\n",
       " 5: ['S', 'H', 'D', 'R', 'Q', 'W', 'N', 'V'],\n",
       " 6: ['P', 'G', 'H', 'C', 'M'],\n",
       " 7: ['F', 'J', 'B', 'G', 'L', 'Z', 'H', 'C'],\n",
       " 8: ['S', 'J', 'R'],\n",
       " 9: ['L', 'G', 'S', 'R', 'B', 'N', 'V', 'M']}"
      ]
     },
     "execution_count": 75,
     "metadata": {},
     "output_type": "execute_result"
    }
   ],
   "source": [
    "def move(how_many, stack_from, stack_to, stacks=stacks):\n",
    "    \"\"\"Move a number of blocks from one stack to another.\"\"\"\n",
    "\n",
    "    for _ in range(how_many):\n",
    "        block = stacks[stack_from].pop()\n",
    "        stacks[stack_to].append(block)\n",
    "    \n",
    "    return stacks\n",
    "\n",
    "import copy\n",
    "print(stacks)\n",
    "move(2, 2, 3, copy.deepcopy(stacks))"
   ]
  },
  {
   "cell_type": "code",
   "execution_count": 76,
   "metadata": {},
   "outputs": [
    {
     "name": "stdout",
     "output_type": "stream",
     "text": [
      "{1: ['J'], 2: ['L', 'R'], 3: ['V'], 4: ['P', 'S', 'N'], 5: ['N', 'B', 'S', 'H'], 6: ['L', 'N', 'D', 'R', 'H', 'D', 'L', 'S', 'G', 'J', 'R', 'W', 'V', 'J', 'G', 'H', 'D', 'G', 'C', 'Q', 'H'], 7: ['V', 'D', 'C', 'R', 'S', 'G', 'W', 'F', 'V', 'Z', 'N', 'M', 'R', 'B', 'G', 'B', 'M', 'F', 'F', 'H', 'J', 'C'], 8: ['S'], 9: ['J']}\n"
     ]
    }
   ],
   "source": [
    "\"\"\"\n",
    "move 1 from 2 to 1\n",
    "move 3 from 1 to 3\n",
    "move 2 from 2 to 1\n",
    "move 1 from 1 to 2\n",
    "\"\"\"\n",
    "\n",
    "def read_moves():\n",
    "    \"\"\"Read and execute moves from file.\"\"\"\n",
    "\n",
    "    with open(path, \"r\") as f:\n",
    "        while row := f.readline():\n",
    "            if \"move\" in row:\n",
    "                _, how_many, _, stack_from, _, stack_to = row.split()\n",
    "                move(int(how_many), int(stack_from), int(stack_to))\n",
    "\n",
    "read_moves()\n",
    "print(stacks)"
   ]
  },
  {
   "cell_type": "code",
   "execution_count": 77,
   "metadata": {},
   "outputs": [
    {
     "name": "stdout",
     "output_type": "stream",
     "text": [
      "JRVNHHCSJ"
     ]
    }
   ],
   "source": [
    "for i in range(len(stacks)):\n",
    "    print(stacks[i+1][-1], end=\"\")"
   ]
  },
  {
   "cell_type": "markdown",
   "metadata": {},
   "source": [
    "--- Part Two ---\n",
    "\n",
    "As you watch the crane operator expertly rearrange the crates, you notice the process isn't following your prediction.\n",
    "\n",
    "Some mud was covering the writing on the side of the crane, and you quickly wipe it away. The crane isn't a CrateMover 9000 - it's a CrateMover 9001.\n",
    "\n",
    "The CrateMover 9001 is notable for many new and exciting features: air conditioning, leather seats, an extra cup holder, and the ability to pick up and move multiple crates at once.\n",
    "\n",
    "Again considering the example above, the crates begin in the same configuration:\n",
    "\n",
    "```\n",
    "    [D]    \n",
    "[N] [C]    \n",
    "[Z] [M] [P]\n",
    " 1   2   3 \n",
    "```\n",
    "\n",
    "Moving a single crate from stack 2 to stack 1 behaves the same as before:\n",
    "\n",
    "```\n",
    "[D]        \n",
    "[N] [C]    \n",
    "[Z] [M] [P]\n",
    " 1   2   3 \n",
    "```\n",
    "\n",
    "However, the action of moving three crates from stack 1 to stack 3 means that those three moved crates stay in the same order, resulting in this new configuration:\n",
    "\n",
    "```\n",
    "        [D]\n",
    "        [N]\n",
    "    [C] [Z]\n",
    "    [M] [P]\n",
    " 1   2   3\n",
    "```\n",
    "\n",
    "Next, as both crates are moved from stack 2 to stack 1, they retain their order as well:\n",
    "\n",
    "```\n",
    "        [D]\n",
    "        [N]\n",
    "[C]     [Z]\n",
    "[M]     [P]\n",
    " 1   2   3\n",
    "```\n",
    "\n",
    "Finally, a single crate is still moved from stack 1 to stack 2, but now it's crate C that gets moved:\n",
    "\n",
    "```\n",
    "        [D]\n",
    "        [N]\n",
    "        [Z]\n",
    "[M] [C] [P]\n",
    " 1   2   3\n",
    "```\n",
    "\n",
    "In this example, the CrateMover 9001 has put the crates in a totally different order: MCD.\n",
    "\n",
    "Before the rearrangement process finishes, update your simulation so that the Elves know where they should stand to be ready to unload the final supplies. After the rearrangement procedure completes, what crate ends up on top of each stack?\n",
    "\n"
   ]
  },
  {
   "cell_type": "code",
   "execution_count": 110,
   "metadata": {},
   "outputs": [],
   "source": [
    "import re\n",
    "\n",
    "path = \"stacks and moves.txt\"\n",
    "width = 9"
   ]
  },
  {
   "cell_type": "code",
   "execution_count": 111,
   "metadata": {},
   "outputs": [
    {
     "data": {
      "text/plain": [
       "{1: ['W', 'D', 'G', 'B', 'H', 'R', 'V'],\n",
       " 2: ['J', 'N', 'G', 'C', 'R', 'F'],\n",
       " 3: ['L', 'S', 'F', 'H', 'D', 'N', 'J'],\n",
       " 4: ['J', 'D', 'S', 'V'],\n",
       " 5: ['S', 'H', 'D', 'R', 'Q', 'W', 'N', 'V'],\n",
       " 6: ['P', 'G', 'H', 'C', 'M'],\n",
       " 7: ['F', 'J', 'B', 'G', 'L', 'Z', 'H', 'C'],\n",
       " 8: ['S', 'J', 'R'],\n",
       " 9: ['L', 'G', 'S', 'R', 'B', 'N', 'V', 'M']}"
      ]
     },
     "execution_count": 111,
     "metadata": {},
     "output_type": "execute_result"
    }
   ],
   "source": [
    "\"\"\"\n",
    "    [D]    \n",
    "[N] [C]    \n",
    "[Z] [M] [P]\n",
    " 1   2   3 \n",
    "\"\"\"\n",
    "\n",
    "def process_input():\n",
    "    \"\"\"Process input and return a dictionary of stacks of characters.\"\"\"\n",
    "\n",
    "    stacks = {i: [] for i in range(1, width + 1)}\n",
    "    total_width = width * 4 - 1\n",
    "\n",
    "    with open(path, \"r\") as f:\n",
    "        \n",
    "        while True:\n",
    "            row = f.readline()[:-1]\n",
    "            if \" 1 \" in row:\n",
    "                break\n",
    "\n",
    "            regex = r\"(.{3}) \" * width\n",
    "            groups = re.search(regex[:-1], row).groups()\n",
    "\n",
    "            for i, group in enumerate(groups):\n",
    "                if \"[\" in group:\n",
    "                    stacks[i + 1].insert(0, group[1])\n",
    "\n",
    "    return stacks\n",
    "\n",
    "stacks = process_input()\n",
    "stacks"
   ]
  },
  {
   "cell_type": "code",
   "execution_count": 112,
   "metadata": {},
   "outputs": [
    {
     "name": "stdout",
     "output_type": "stream",
     "text": [
      "{1: ['W', 'D', 'G', 'B', 'H', 'R', 'V'], 2: ['J', 'N', 'G', 'C', 'R', 'F'], 3: ['L', 'S', 'F', 'H', 'D', 'N', 'J'], 4: ['J', 'D', 'S', 'V'], 5: ['S', 'H', 'D', 'R', 'Q', 'W', 'N', 'V'], 6: ['P', 'G', 'H', 'C', 'M'], 7: ['F', 'J', 'B', 'G', 'L', 'Z', 'H', 'C'], 8: ['S', 'J', 'R'], 9: ['L', 'G', 'S', 'R', 'B', 'N', 'V', 'M']}\n",
      "{1: ['W', 'D', 'G', 'B', 'H', 'R', 'V', 'F'], 2: ['J', 'N', 'G', 'C', 'R'], 3: ['L', 'S', 'F', 'H', 'D', 'N', 'J'], 4: ['J', 'D', 'S', 'V'], 5: ['S', 'H', 'D', 'R', 'Q', 'W', 'N', 'V'], 6: ['P', 'G', 'H', 'C', 'M'], 7: ['F', 'J', 'B', 'G', 'L', 'Z', 'H', 'C'], 8: ['S', 'J', 'R'], 9: ['L', 'G', 'S', 'R', 'B', 'N', 'V', 'M']}\n",
      "{1: ['W', 'D', 'G', 'B', 'H'], 2: ['J', 'N', 'G', 'C', 'R'], 3: ['L', 'S', 'F', 'H', 'D', 'N', 'J', 'R', 'V', 'F'], 4: ['J', 'D', 'S', 'V'], 5: ['S', 'H', 'D', 'R', 'Q', 'W', 'N', 'V'], 6: ['P', 'G', 'H', 'C', 'M'], 7: ['F', 'J', 'B', 'G', 'L', 'Z', 'H', 'C'], 8: ['S', 'J', 'R'], 9: ['L', 'G', 'S', 'R', 'B', 'N', 'V', 'M']}\n"
     ]
    }
   ],
   "source": [
    "def move(how_many, stack_from, stack_to, stacks=stacks):\n",
    "    \"\"\"Move a number of blocks from one stack to another AT THE SAME TIME\"\"\"\n",
    "\n",
    "    stacks[stack_to].extend(stacks[stack_from][len(stacks[stack_from]) - how_many:])\n",
    "    \n",
    "    for _ in range(how_many):\n",
    "        stacks[stack_from].pop()\n",
    "\n",
    "    return stacks\n",
    "\n",
    "import copy\n",
    "print(stacks)\n",
    "test_stacks = move(1, 2, 1, copy.deepcopy(stacks))\n",
    "print(test_stacks)\n",
    "test_stacks = move(3, 1, 3, copy.deepcopy(test_stacks))\n",
    "print(test_stacks)"
   ]
  },
  {
   "cell_type": "code",
   "execution_count": 113,
   "metadata": {},
   "outputs": [
    {
     "name": "stdout",
     "output_type": "stream",
     "text": [
      "{1: ['G'], 2: ['J', 'N'], 3: ['F'], 4: ['J', 'V', 'B'], 5: ['V', 'G', 'V', 'S'], 6: ['R', 'D', 'N', 'S', 'H', 'D', 'Z', 'N', 'R', 'D', 'W', 'S', 'H', 'B', 'C', 'S', 'D', 'R', 'L', 'P', 'B'], 7: ['M', 'M', 'R', 'G', 'C', 'H', 'G', 'J', 'L', 'R', 'C', 'F', 'S', 'F', 'G', 'V', 'W', 'N', 'J', 'H', 'Q', 'J'], 8: ['L'], 9: ['H']}\n"
     ]
    }
   ],
   "source": [
    "\"\"\"\n",
    "move 1 from 2 to 1\n",
    "move 3 from 1 to 3\n",
    "move 2 from 2 to 1\n",
    "move 1 from 1 to 2\n",
    "\"\"\"\n",
    "\n",
    "def read_moves():\n",
    "    \"\"\"Read and execute moves from file.\"\"\"\n",
    "\n",
    "    with open(path, \"r\") as f:\n",
    "        while row := f.readline():\n",
    "            if \"move\" in row:\n",
    "                _, how_many, _, stack_from, _, stack_to = row.split()\n",
    "                move(int(how_many), int(stack_from), int(stack_to))\n",
    "\n",
    "read_moves()\n",
    "print(stacks)"
   ]
  },
  {
   "cell_type": "code",
   "execution_count": 114,
   "metadata": {},
   "outputs": [
    {
     "name": "stdout",
     "output_type": "stream",
     "text": [
      "GNFBSBJLH"
     ]
    }
   ],
   "source": [
    "for i in range(len(stacks)):\n",
    "    print(stacks[i+1][-1], end=\"\")"
   ]
  }
 ],
 "metadata": {
  "kernelspec": {
   "display_name": "Python 3.11.0 ('datasci')",
   "language": "python",
   "name": "python3"
  },
  "language_info": {
   "codemirror_mode": {
    "name": "ipython",
    "version": 3
   },
   "file_extension": ".py",
   "mimetype": "text/x-python",
   "name": "python",
   "nbconvert_exporter": "python",
   "pygments_lexer": "ipython3",
   "version": "3.11.0"
  },
  "orig_nbformat": 4,
  "vscode": {
   "interpreter": {
    "hash": "6396b1a6e95c5e64028c4be82a26719208e577f8c968a385abb8ba9bea42e977"
   }
  }
 },
 "nbformat": 4,
 "nbformat_minor": 2
}
