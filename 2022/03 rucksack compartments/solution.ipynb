{
 "cells": [
  {
   "cell_type": "markdown",
   "metadata": {},
   "source": [
    "--- Day 3: Rucksack Reorganization ---\n",
    "\n",
    "One Elf has the important job of loading all of the rucksacks with supplies for the jungle journey. Unfortunately, that Elf didn't quite follow the packing instructions, and so a few items now need to be rearranged.\n",
    "\n",
    "Each rucksack has two large compartments. All items of a given type are meant to go into exactly one of the two compartments. The Elf that did the packing failed to follow this rule for exactly one item type per rucksack.\n",
    "\n",
    "The Elves have made a list of all of the items currently in each rucksack (your puzzle input), but they need your help finding the errors. Every item type is identified by a single lowercase or uppercase letter (that is, a and A refer to different types of items).\n",
    "\n",
    "The list of items for each rucksack is given as characters all on a single line. A given rucksack always has the same number of items in each of its two compartments, so the first half of the characters represent items in the first compartment, while the second half of the characters represent items in the second compartment.\n",
    "\n",
    "For example, suppose you have the following list of contents from six rucksacks:\n",
    "\n",
    "    vJrwpWtwJgWrhcsFMMfFFhFp\n",
    "    jqHRNqRjqzjGDLGLrsFMfFZSrLrFZsSL\n",
    "    PmmdzqPrVvPwwTWBwg\n",
    "    wMqvLMZHhHMvwLHjbvcjnnSBnvTQFn\n",
    "    ttgJtRGJQctTZtZT\n",
    "    CrZsJsPPZsGzwwsLwLmpwMDw\n",
    "\n",
    "- The first rucksack contains the items vJrwpWtwJgWrhcsFMMfFFhFp, which means its first compartment contains the items vJrwpWtwJgWr, while the second compartment contains the items hcsFMMfFFhFp. The only item type that appears in both compartments is lowercase p.\n",
    "- The second rucksack's compartments contain jqHRNqRjqzjGDLGL and rsFMfFZSrLrFZsSL. The only item type that appears in both compartments is uppercase L.\n",
    "- The third rucksack's compartments contain PmmdzqPrV and vPwwTWBwg; the only common item type is uppercase P.\n",
    "- The fourth rucksack's compartments only share item type v.\n",
    "- The fifth rucksack's compartments only share item type t.\n",
    "- The sixth rucksack's compartments only share item type s.\n",
    "\n",
    "To help prioritize item rearrangement, every item type can be converted to a priority:\n",
    "\n",
    "Lowercase item types a through z have priorities 1 through 26.\n",
    "Uppercase item types A through Z have priorities 27 through 52.\n",
    "In the above example, the priority of the item type that appears in both compartments of each rucksack is 16 (p), 38 (L), 42 (P), 22 (v), 20 (t), and 19 (s); the sum of these is 157.\n",
    "\n",
    "Find the item type that appears in both compartments of each rucksack. What is the sum of the priorities of those item types?"
   ]
  },
  {
   "cell_type": "code",
   "execution_count": 7,
   "metadata": {},
   "outputs": [],
   "source": [
    "import pandas as pd\n"
   ]
  },
  {
   "cell_type": "code",
   "execution_count": 82,
   "metadata": {},
   "outputs": [
    {
     "data": {
      "text/plain": [
       "17"
      ]
     },
     "execution_count": 82,
     "metadata": {},
     "output_type": "execute_result"
    }
   ],
   "source": [
    "# create a list of all characters, to calculate priorities according to instructions\n",
    "abc = [0] + list(range(97, 123)) + list(range(65, 91))\n",
    "chars = [chr(char) for char in abc]\n",
    "\n",
    "def get_repeated_char_value(rucksack_value):\n",
    "    left, right = rucksack_value[:len(rucksack_value)//2], rucksack_value[len(rucksack_value)//2:]\n",
    "    left = pd.Series([char for char in left]).value_counts()\n",
    "    right = pd.Series([char for char in right]).value_counts()\n",
    "    combination = left + right\n",
    "    # leave only the true values\n",
    "    repeated_char = combination[combination.notna()].index[0]\n",
    "\n",
    "    return chars.index(repeated_char)\n",
    "\n",
    "get_repeated_char_value(\"lflrqrWMmfdMlrtWWmZgDjsqwFwhFDsngnvhqs\")"
   ]
  },
  {
   "cell_type": "code",
   "execution_count": 63,
   "metadata": {},
   "outputs": [
    {
     "data": {
      "text/html": [
       "<div>\n",
       "<style scoped>\n",
       "    .dataframe tbody tr th:only-of-type {\n",
       "        vertical-align: middle;\n",
       "    }\n",
       "\n",
       "    .dataframe tbody tr th {\n",
       "        vertical-align: top;\n",
       "    }\n",
       "\n",
       "    .dataframe thead th {\n",
       "        text-align: right;\n",
       "    }\n",
       "</style>\n",
       "<table border=\"1\" class=\"dataframe\">\n",
       "  <thead>\n",
       "    <tr style=\"text-align: right;\">\n",
       "      <th></th>\n",
       "      <th>rucksack</th>\n",
       "    </tr>\n",
       "  </thead>\n",
       "  <tbody>\n",
       "    <tr>\n",
       "      <th>0</th>\n",
       "      <td>jLnFTjhwFTLFDGDDvLgvDssBJBbVRNZJPPJBGzBNRVJNRB</td>\n",
       "    </tr>\n",
       "    <tr>\n",
       "      <th>1</th>\n",
       "      <td>QWmffSmMZCfWrmHlCflQWfSNBpVBNbPSbbJNppcVVzzpcp</td>\n",
       "    </tr>\n",
       "    <tr>\n",
       "      <th>2</th>\n",
       "      <td>lflrqrWMmfdMlrtWWmZgDjsqwFwhFDsngnvhqs</td>\n",
       "    </tr>\n",
       "    <tr>\n",
       "      <th>3</th>\n",
       "      <td>CNBGwsWVsdWDNCCVvfPLfQfgZHPBvpgf</td>\n",
       "    </tr>\n",
       "    <tr>\n",
       "      <th>4</th>\n",
       "      <td>qhJqJlmcFnhJclllPgZjvpHpvfZpPbLn</td>\n",
       "    </tr>\n",
       "  </tbody>\n",
       "</table>\n",
       "</div>"
      ],
      "text/plain": [
       "                                         rucksack\n",
       "0  jLnFTjhwFTLFDGDDvLgvDssBJBbVRNZJPPJBGzBNRVJNRB\n",
       "1  QWmffSmMZCfWrmHlCflQWfSNBpVBNbPSbbJNppcVVzzpcp\n",
       "2          lflrqrWMmfdMlrtWWmZgDjsqwFwhFDsngnvhqs\n",
       "3                CNBGwsWVsdWDNCCVvfPLfQfgZHPBvpgf\n",
       "4                qhJqJlmcFnhJclllPgZjvpHpvfZpPbLn"
      ]
     },
     "execution_count": 63,
     "metadata": {},
     "output_type": "execute_result"
    }
   ],
   "source": [
    "# import 'rucksack.txt' as pandas dataframe\n",
    "rucksack = pd.read_csv('rucksack.txt', header=None, names=['rucksack'])\n",
    "rucksack.head()"
   ]
  },
  {
   "cell_type": "code",
   "execution_count": 85,
   "metadata": {},
   "outputs": [
    {
     "data": {
      "text/plain": [
       "7903"
      ]
     },
     "execution_count": 85,
     "metadata": {},
     "output_type": "execute_result"
    }
   ],
   "source": [
    "# do anything with it\n",
    "rucksack[\"rucksack\"].map(get_repeated_char_value).sum()"
   ]
  },
  {
   "cell_type": "markdown",
   "metadata": {},
   "source": [
    "--- Part Two ---\n",
    "\n",
    "As you finish identifying the misplaced items, the Elves come to you with another issue.\n",
    "\n",
    "For safety, the Elves are divided into groups of three. Every Elf carries a badge that identifies their group. For efficiency, within each group of three Elves, the badge is the only item type carried by all three Elves. That is, if a group's badge is item type B, then all three Elves will have item type B somewhere in their rucksack, and at most two of the Elves will be carrying any other item type.\n",
    "\n",
    "The problem is that someone forgot to put this year's updated authenticity sticker on the badges. All of the badges need to be pulled out of the rucksacks so the new authenticity stickers can be attached.\n",
    "\n",
    "Additionally, nobody wrote down which item type corresponds to each group's badges. The only way to tell which item type is the right one is by finding the one item type that is common between all three Elves in each group.\n",
    "\n",
    "Every set of three lines in your list corresponds to a single group, but each group can have a different badge item type. So, in the above example, the first group's rucksacks are the first three lines:\n",
    "\n",
    "    vJrwpWtwJgWrhcsFMMfFFhFp\n",
    "    jqHRNqRjqzjGDLGLrsFMfFZSrLrFZsSL\n",
    "    PmmdzqPrVvPwwTWBwg\n",
    "\n",
    "And the second group's rucksacks are the next three lines:\n",
    "\n",
    "    wMqvLMZHhHMvwLHjbvcjnnSBnvTQFn\n",
    "    ttgJtRGJQctTZtZT\n",
    "    CrZsJsPPZsGzwwsLwLmpwMDw\n",
    "\n",
    "In the first group, the only item type that appears in all three rucksacks is lowercase r; this must be their badges. In the second group, their badge item type must be Z.\n",
    "\n",
    "Priorities for these items must still be found to organize the sticker attachment efforts: here, they are 18 (r) for the first group and 52 (Z) for the second group. The sum of these is 70.\n",
    "\n",
    "Find the item type that corresponds to the badges of each three-Elf group. What is the sum of the priorities of those item types?"
   ]
  },
  {
   "cell_type": "code",
   "execution_count": 122,
   "metadata": {},
   "outputs": [],
   "source": [
    "import numpy as np\n",
    "from functools import reduce"
   ]
  },
  {
   "cell_type": "code",
   "execution_count": 123,
   "metadata": {},
   "outputs": [
    {
     "data": {
      "text/plain": [
       "Index(['b'], dtype='object')"
      ]
     },
     "execution_count": 123,
     "metadata": {},
     "output_type": "execute_result"
    }
   ],
   "source": [
    "def get_common_chars(left, right):\n",
    "    left = pd.Series([char for char in left]).value_counts()\n",
    "    right = pd.Series([char for char in right]).value_counts()\n",
    "    combination = left + right\n",
    "    # leave only the true values\n",
    "    common_char = combination[combination.notna()].index\n",
    "\n",
    "    return common_char\n",
    "\n",
    "get_common_chars(\"aaabaa\", \"bbbbcc\")"
   ]
  },
  {
   "cell_type": "code",
   "execution_count": 121,
   "metadata": {},
   "outputs": [
    {
     "data": {
      "text/plain": [
       "2548"
      ]
     },
     "execution_count": 121,
     "metadata": {},
     "output_type": "execute_result"
    }
   ],
   "source": [
    "repeated = list()\n",
    "for triad in np.split(rucksack[\"rucksack\"], 100):\n",
    "    repeated.extend(reduce(get_common_chars, triad))\n",
    "\n",
    "np.sum([chars.index(char) for char in repeated])"
   ]
  }
 ],
 "metadata": {
  "kernelspec": {
   "display_name": "Python 3.11.0 ('datasci')",
   "language": "python",
   "name": "python3"
  },
  "language_info": {
   "codemirror_mode": {
    "name": "ipython",
    "version": 3
   },
   "file_extension": ".py",
   "mimetype": "text/x-python",
   "name": "python",
   "nbconvert_exporter": "python",
   "pygments_lexer": "ipython3",
   "version": "3.11.0"
  },
  "orig_nbformat": 4,
  "vscode": {
   "interpreter": {
    "hash": "6396b1a6e95c5e64028c4be82a26719208e577f8c968a385abb8ba9bea42e977"
   }
  }
 },
 "nbformat": 4,
 "nbformat_minor": 2
}
