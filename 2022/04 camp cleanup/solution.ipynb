{
 "cells": [
  {
   "cell_type": "markdown",
   "metadata": {},
   "source": [
    "--- Day 4: Camp Cleanup ---\n",
    "\n",
    "Space needs to be cleared before the last supplies can be unloaded from the ships, and so several Elves have been assigned the job of cleaning up sections of the camp. Every section has a unique ID number, and each Elf is assigned a range of section IDs.\n",
    "\n",
    "However, as some of the Elves compare their section assignments with each other, they've noticed that many of the assignments overlap. To try to quickly find overlaps and reduce duplicated effort, the Elves pair up and make a big list of the section assignments for each pair (your puzzle input).\n",
    "\n",
    "For example, consider the following list of section assignment pairs:\n",
    "\n",
    "    2-4,6-8\n",
    "    2-3,4-5\n",
    "    5-7,7-9\n",
    "    2-8,3-7\n",
    "    6-6,4-6\n",
    "    2-6,4-8\n",
    "\n",
    "For the first few pairs, this list means:\n",
    "\n",
    "Within the first pair of Elves, the first Elf was assigned sections 2-4 (sections 2, 3, and 4), while the second Elf was assigned sections 6-8 (sections 6, 7, 8).\n",
    "The Elves in the second pair were each assigned two sections.\n",
    "The Elves in the third pair were each assigned three sections: one got sections 5, 6, and 7, while the other also got 7, plus 8 and 9.\n",
    "This example list uses single-digit section IDs to make it easier to draw; your actual list might contain larger numbers. Visually, these pairs of section assignments look like this:\n",
    "\n",
    "    .234.....  2-4\n",
    "    .....678.  6-8\n",
    "\n",
    "    .23......  2-3\n",
    "    ...45....  4-5\n",
    "\n",
    "    ....567..  5-7\n",
    "    ......789  7-9\n",
    "\n",
    "    .2345678.  2-8\n",
    "    ..34567..  3-7\n",
    "\n",
    "    .....6...  6-6\n",
    "    ...456...  4-6\n",
    "\n",
    "    .23456...  2-6\n",
    "    ...45678.  4-8\n",
    "\n",
    "Some of the pairs have noticed that one of their assignments fully contains the other. For example, 2-8 fully contains 3-7, and 6-6 is fully contained by 4-6. In pairs where one assignment fully contains the other, one Elf in the pair would be exclusively cleaning sections their partner will already be cleaning, so these seem like the most in need of reconsideration. In this example, there are 2 such pairs.\n",
    "\n",
    "In how many assignment pairs does one range fully contain the other?"
   ]
  },
  {
   "cell_type": "code",
   "execution_count": 27,
   "metadata": {},
   "outputs": [],
   "source": [
    "import pandas as pd"
   ]
  },
  {
   "cell_type": "code",
   "execution_count": 54,
   "metadata": {},
   "outputs": [
    {
     "name": "stdout",
     "output_type": "stream",
     "text": [
      "True\n",
      "True\n"
     ]
    }
   ],
   "source": [
    "txt = \"27-42,11-60\"\n",
    "txt2 = \"3-5,2-5\"\n",
    "\n",
    "def overlapping_range(left, right):\n",
    "    left = list(map(int, left.split(\"-\")))\n",
    "    right = list(map(int, right.split(\"-\")))\n",
    "\n",
    "    left = list(range(left[0], left[1]+1))\n",
    "    right = list(range(right[0], right[1]+1))\n",
    "\n",
    "    intersection_length = len(set(left).intersection(set(right)))\n",
    "    return len(left) == intersection_length or len(right) == intersection_length\n",
    "\n",
    "print(overlapping_range(*txt.split(\",\")))\n",
    "print(overlapping_range(*txt2.split(\",\")))"
   ]
  },
  {
   "cell_type": "code",
   "execution_count": 55,
   "metadata": {},
   "outputs": [
    {
     "data": {
      "text/plain": [
       "2"
      ]
     },
     "execution_count": 55,
     "metadata": {},
     "output_type": "execute_result"
    }
   ],
   "source": [
    "pd.read_csv(\"cleanup pairs example.txt\", header=None, names=[\"left\", \"right\"]).apply(lambda x: overlapping_range(x[\"left\"], x[\"right\"]), axis=1).sum()"
   ]
  },
  {
   "cell_type": "code",
   "execution_count": 56,
   "metadata": {},
   "outputs": [
    {
     "data": {
      "text/plain": [
       "424"
      ]
     },
     "execution_count": 56,
     "metadata": {},
     "output_type": "execute_result"
    }
   ],
   "source": [
    "pd.read_csv(\"cleanup pairs.txt\", header=None, names=[\"left\", \"right\"]).apply(lambda x: overlapping_range(x[\"left\"], x[\"right\"]), axis=1).sum()"
   ]
  },
  {
   "cell_type": "markdown",
   "metadata": {},
   "source": [
    "First try: 442. Failed because my string approach made mistakes when a range had only 1 digit (e.g. 1-1). This way, 1-1 was being found in 11-12, which is wrong.\n",
    "Will use a numeric approach instead.\n",
    "\n",
    "Second try, 396 was too low. Sets are unorded and I had forgotten, so the comparison with the ranges was incorrect. Instead I ended up comparing length of the set with length of the ranges.\n",
    "\n",
    "424 was the right answer!"
   ]
  },
  {
   "cell_type": "markdown",
   "metadata": {},
   "source": [
    "--- Part Two ---\n",
    "\n",
    "It seems like there is still quite a bit of duplicate work planned. Instead, the Elves would like to know the number of pairs that overlap at all.\n",
    "\n",
    "In the above example, the first two pairs (2-4,6-8 and 2-3,4-5) don't overlap, while the remaining four pairs (5-7,7-9, 2-8,3-7, 6-6,4-6, and 2-6,4-8) do overlap:\n",
    "\n",
    "    5-7,7-9 overlaps in a single section, 7.\n",
    "    2-8,3-7 overlaps all of the sections 3 through 7.\n",
    "    6-6,4-6 overlaps in a single section, 6.\n",
    "    2-6,4-8 overlaps in sections 4, 5, and 6.\n",
    "    So, in this example, the number of overlapping assignment pairs is 4.\n",
    "\n",
    "In how many assignment pairs do the ranges overlap?"
   ]
  },
  {
   "cell_type": "code",
   "execution_count": 62,
   "metadata": {},
   "outputs": [
    {
     "name": "stdout",
     "output_type": "stream",
     "text": [
      "False\n",
      "True\n"
     ]
    }
   ],
   "source": [
    "txt = \"27-42,43-60\"\n",
    "txt2 = \"3-3,3-5\"\n",
    "\n",
    "def overlapping_range(left, right):\n",
    "    left = list(map(int, left.split(\"-\")))\n",
    "    right = list(map(int, right.split(\"-\")))\n",
    "\n",
    "    left = list(range(left[0], left[1]+1))\n",
    "    right = list(range(right[0], right[1]+1))\n",
    "\n",
    "    return bool(set(left).intersection(set(right)))\n",
    "\n",
    "print(overlapping_range(*txt.split(\",\")))\n",
    "print(overlapping_range(*txt2.split(\",\")))"
   ]
  },
  {
   "cell_type": "code",
   "execution_count": 64,
   "metadata": {},
   "outputs": [
    {
     "data": {
      "text/plain": [
       "4"
      ]
     },
     "execution_count": 64,
     "metadata": {},
     "output_type": "execute_result"
    }
   ],
   "source": [
    "pd.read_csv(\"cleanup pairs example.txt\", header=None, names=[\"left\", \"right\"]).apply(lambda x: overlapping_range(x[\"left\"], x[\"right\"]), axis=1).sum()"
   ]
  },
  {
   "cell_type": "code",
   "execution_count": 63,
   "metadata": {},
   "outputs": [
    {
     "data": {
      "text/plain": [
       "804"
      ]
     },
     "execution_count": 63,
     "metadata": {},
     "output_type": "execute_result"
    }
   ],
   "source": [
    "pd.read_csv(\"cleanup pairs.txt\", header=None, names=[\"left\", \"right\"]).apply(lambda x: overlapping_range(x[\"left\"], x[\"right\"]), axis=1).sum()"
   ]
  }
 ],
 "metadata": {
  "kernelspec": {
   "display_name": "Python 3.11.0 ('datasci')",
   "language": "python",
   "name": "python3"
  },
  "language_info": {
   "codemirror_mode": {
    "name": "ipython",
    "version": 3
   },
   "file_extension": ".py",
   "mimetype": "text/x-python",
   "name": "python",
   "nbconvert_exporter": "python",
   "pygments_lexer": "ipython3",
   "version": "3.11.0"
  },
  "orig_nbformat": 4,
  "vscode": {
   "interpreter": {
    "hash": "6396b1a6e95c5e64028c4be82a26719208e577f8c968a385abb8ba9bea42e977"
   }
  }
 },
 "nbformat": 4,
 "nbformat_minor": 2
}
