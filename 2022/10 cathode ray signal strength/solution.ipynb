{
 "cells": [
  {
   "cell_type": "markdown",
   "metadata": {},
   "source": [
    "--- Day 10: Cathode-Ray Tube ---\n",
    "\n",
    "You avoid the ropes, plunge into the river, and swim to shore.\n",
    "\n",
    "The Elves yell something about meeting back up with them upriver, but the river is too loud to tell exactly what they're saying. They finish crossing the bridge and disappear from view.\n",
    "\n",
    "Situations like this must be why the Elves prioritized getting the communication system on your handheld device working. You pull it out of your pack, but the amount of water slowly draining from a big crack in its screen tells you it probably won't be of much immediate use.\n",
    "\n",
    "Unless, that is, you can design a replacement for the device's video system! It seems to be some kind of cathode-ray tube screen and simple CPU that are both driven by a precise clock circuit. The clock circuit ticks at a constant rate; each tick is called a cycle.\n",
    "\n",
    "Start by figuring out the signal being sent by the CPU. The CPU has a single register, X, which starts with the value 1. It supports only two instructions:\n",
    "\n",
    "- addx V takes two cycles to complete. After two cycles, the X register is increased by the value V. (V can be negative.)\n",
    "- noop takes one cycle to complete. It has no other effect.\n",
    "The CPU uses these instructions in a program (your puzzle input) to, somehow, tell the screen what to draw.\n",
    "\n",
    "Consider the following small program:\n",
    "\n",
    "    noop\n",
    "    addx 3\n",
    "    addx -5\n",
    "\n",
    "Execution of this program proceeds as follows:\n",
    "\n",
    "- At the start of the first cycle, the noop instruction begins execution. During the first cycle, X is 1. After the first cycle, the noop instruction finishes execution, doing nothing.\n",
    "At the start of the second cycle, the addx 3 instruction begins execution. During the second cycle, X is still 1.\n",
    "- During the third cycle, X is still 1. After the third cycle, the addx 3 instruction finishes execution, setting X to 4.\n",
    "- At the start of the fourth cycle, the addx -5 instruction begins execution. During the fourth cycle, X is still 4.\n",
    "- During the fifth cycle, X is still 4. After the fifth cycle, the addx -5 instruction finishes execution, setting X to -1.\n",
    "- Maybe you can learn something by looking at the value of the X register throughout execution. For now, consider the signal strength (the cycle number multiplied by the value of the X register) during the 20th cycle and every 40 cycles after that (that is, during the 20th, 60th, 100th, 140th, 180th, and 220th cycles).\n",
    "\n",
    "For example, consider this larger program (`sample2 input.txt`)\n",
    "\n",
    "The interesting signal strengths can be determined as follows:\n",
    "\n",
    "- During the 20th cycle, register X has the value 21, so the signal strength is 20 * 21 = 420. (The 20th cycle occurs in the middle of the second addx -1, so the value of register X is the starting value, 1, plus all of the other addx values up to that point: 1 + 15 - 11 + 6 - 3 + 5 - 1 - 8 + 13 + 4 = 21.)\n",
    "- During the 60th cycle, register X has the value 19, so the signal strength is 60 * 19 = 1140.\n",
    "- During the 100th cycle, register X has the value 18, so the signal strength is 100 * 18 = 1800.\n",
    "- During the 140th cycle, register X has the value 21, so the signal strength is 140 * 21 = 2940.\n",
    "- During the 180th cycle, register X has the value 16, so the signal strength is 180 * 16 = 2880.\n",
    "- During the 220th cycle, register X has the value 18, so the signal strength is 220 * 18 = 3960.\n",
    "\n",
    "The sum of these signal strengths is 13140.\n",
    "\n",
    "Find the signal strength during the 20th, 60th, 100th, 140th, 180th, and 220th cycles. What is the sum of these six signal strengths?"
   ]
  },
  {
   "cell_type": "code",
   "execution_count": 99,
   "metadata": {},
   "outputs": [],
   "source": [
    "import numpy as np\n",
    "import re"
   ]
  },
  {
   "cell_type": "code",
   "execution_count": 260,
   "metadata": {},
   "outputs": [],
   "source": [
    "with open(\"input.txt\", \"r\") as f:\n",
    "    text = f.read()\n",
    "    lines = text.splitlines()\n"
   ]
  },
  {
   "cell_type": "code",
   "execution_count": 261,
   "metadata": {},
   "outputs": [
    {
     "name": "stdout",
     "output_type": "stream",
     "text": [
      "addx 1\n",
      "noop\n",
      "addx 2\n",
      "addx 11\n",
      "addx -4\n",
      "noop\n",
      "noop\n",
      "noop\n",
      "noop\n",
      "addx 3\n",
      "addx -3\n",
      "addx 10\n",
      "addx 1\n",
      "noop\n",
      "addx 12\n",
      "addx -8\n",
      "addx 5\n",
      "noop\n",
      "noop\n",
      "addx 1\n",
      "addx 4\n",
      "addx -12\n",
      "noop\n",
      "addx -25\n",
      "addx 14\n",
      "addx -7\n",
      "noop\n",
      "addx 11\n",
      "noop\n",
      "addx -6\n",
      "addx 3\n",
      "noop\n",
      "addx 2\n",
      "addx 22\n",
      "addx -12\n",
      "addx -17\n",
      "addx 15\n",
      "addx 2\n",
      "addx 10\n",
      "addx -9\n",
      "noop\n",
      "noop\n",
      "noop\n",
      "addx 5\n",
      "addx 2\n",
      "addx -33\n",
      "noop\n",
      "noop\n",
      "noop\n",
      "noop\n",
      "addx 12\n",
      "addx -9\n",
      "addx 7\n",
      "noop\n",
      "noop\n",
      "addx 3\n",
      "addx -2\n",
      "addx 2\n",
      "addx 26\n",
      "addx -31\n",
      "addx 14\n",
      "addx 3\n",
      "noop\n",
      "addx 13\n",
      "addx -1\n",
      "noop\n",
      "addx -5\n",
      "addx -13\n",
      "addx 14\n",
      "noop\n",
      "addx -20\n",
      "addx -15\n",
      "noop\n",
      "addx 7\n",
      "noop\n",
      "addx 31\n",
      "noop\n",
      "addx -26\n",
      "noop\n",
      "noop\n",
      "noop\n",
      "addx 5\n",
      "addx 20\n",
      "addx -11\n",
      "addx -3\n",
      "addx 9\n",
      "addx -5\n",
      "addx 2\n",
      "noop\n",
      "addx 4\n",
      "noop\n",
      "addx 4\n",
      "noop\n",
      "noop\n",
      "addx -7\n",
      "addx -30\n",
      "noop\n",
      "addx 7\n",
      "noop\n",
      "noop\n",
      "addx -2\n",
      "addx -4\n",
      "addx 11\n",
      "addx 14\n",
      "addx -9\n",
      "addx -2\n",
      "noop\n",
      "addx 7\n",
      "noop\n",
      "addx -11\n",
      "addx -5\n",
      "addx 19\n",
      "addx 5\n",
      "addx 2\n",
      "addx 5\n",
      "noop\n",
      "noop\n",
      "addx -2\n",
      "addx -27\n",
      "addx -6\n",
      "addx 1\n",
      "noop\n",
      "noop\n",
      "addx 4\n",
      "addx 1\n",
      "addx 4\n",
      "addx 5\n",
      "noop\n",
      "noop\n",
      "noop\n",
      "addx 1\n",
      "noop\n",
      "addx 4\n",
      "addx 1\n",
      "noop\n",
      "noop\n",
      "addx 5\n",
      "noop\n",
      "noop\n",
      "addx 4\n",
      "addx 1\n",
      "noop\n",
      "addx 4\n",
      "addx 1\n",
      "noop\n",
      "noop\n",
      "noop\n",
      "noop\n"
     ]
    }
   ],
   "source": [
    "cycle_length = len(re.findall(\"addx\", text)) * 2 + len(re.findall(\"noop\", text))\n",
    "\n",
    "to_add = np.zeros(cycle_length, int)\n",
    "\n",
    "cycle = 0\n",
    "for i, command in enumerate(lines):\n",
    "    cycle += 1\n",
    "    if \"addx\" in command:\n",
    "        cycle += 1\n",
    "        value = command.split()[1]\n",
    "        to_add[cycle] = int(value)\n",
    "    print(command)"
   ]
  },
  {
   "cell_type": "code",
   "execution_count": 262,
   "metadata": {},
   "outputs": [
    {
     "name": "stdout",
     "output_type": "stream",
     "text": [
      "13\n",
      "13\n",
      "546\n",
      "546\n"
     ]
    }
   ],
   "source": [
    "def get_x_at(cycle):\n",
    "    return 1 + sum(to_add[:cycle])\n",
    "\n",
    "def get_signal_strength_at(cycle):\n",
    "    return cycle * get_x_at(cycle)\n",
    "\n",
    "register_values = [get_x_at(cycle) for cycle in range(len(to_add))]\n",
    "signal_strengths = [get_signal_strength_at(cycle) for cycle in range(len(to_add))]\n",
    "\n",
    "cycle = 42\n",
    "print(get_x_at(cycle))\n",
    "print(register_values[cycle])\n",
    "print(get_signal_strength_at(cycle))\n",
    "print(signal_strengths[cycle])"
   ]
  },
  {
   "cell_type": "code",
   "execution_count": 263,
   "metadata": {},
   "outputs": [
    {
     "name": "stdout",
     "output_type": "stream",
     "text": [
      "20 420\n",
      "60 1560\n",
      "100 900\n",
      "140 3500\n",
      "180 3780\n",
      "220 4620\n"
     ]
    },
    {
     "data": {
      "text/plain": [
       "14780"
      ]
     },
     "execution_count": 263,
     "metadata": {},
     "output_type": "execute_result"
    }
   ],
   "source": [
    "for i in range(20, 240, 40):\n",
    "    print(i, get_signal_strength_at(i))\n",
    "\n",
    "sum([get_signal_strength_at(i) for i in range(20, 240, 40)])\n",
    "sum([signal_strengths[i] for i in range(20, 240, 40)])"
   ]
  },
  {
   "cell_type": "markdown",
   "metadata": {},
   "source": [
    "## Part 2:\n",
    "\n",
    "Draw the image. If the sprite is positioned such that one of its three pixels is the pixel currently being drawn, the screen produces a lit pixel (#); otherwise, the screen leaves the pixel dark (.)."
   ]
  },
  {
   "cell_type": "code",
   "execution_count": 264,
   "metadata": {},
   "outputs": [
    {
     "name": "stdout",
     "output_type": "stream",
     "text": [
      "\n",
      ".####.#....###..#....####..##..####.#...\n",
      ".#....#....#..#.#.......#.#..#....#.#...\n",
      ".###..#....#..#.#......#..#......#..#...\n",
      ".#....#....###..#.....#...#.##..#...#...\n",
      ".#....#....#....#....#....#..#.#....#...\n",
      ".####.####.#....####.####..###.####.####"
     ]
    }
   ],
   "source": [
    "for i in range(cycle_length):\n",
    "    x = register_values[i]\n",
    "\n",
    "    if i % 40 == 0:\n",
    "        print()\n",
    "    \n",
    "    if (i-1) % 40 in [x - 1, x, x + 1]:\n",
    "        print(\"#\", end=\"\")\n",
    "    else:\n",
    "        print(\".\", end=\"\")"
   ]
  },
  {
   "cell_type": "markdown",
   "metadata": {},
   "source": [
    "I found the instructions very hard to understand and the examples not very clear/helpful... Therefore I had to look up some hints for the solution."
   ]
  }
 ],
 "metadata": {
  "kernelspec": {
   "display_name": "Python 3.11.0 ('datasci')",
   "language": "python",
   "name": "python3"
  },
  "language_info": {
   "codemirror_mode": {
    "name": "ipython",
    "version": 3
   },
   "file_extension": ".py",
   "mimetype": "text/x-python",
   "name": "python",
   "nbconvert_exporter": "python",
   "pygments_lexer": "ipython3",
   "version": "3.11.0"
  },
  "orig_nbformat": 4,
  "vscode": {
   "interpreter": {
    "hash": "6396b1a6e95c5e64028c4be82a26719208e577f8c968a385abb8ba9bea42e977"
   }
  }
 },
 "nbformat": 4,
 "nbformat_minor": 2
}
