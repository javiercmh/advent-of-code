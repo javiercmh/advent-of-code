{
 "cells": [
  {
   "cell_type": "markdown",
   "metadata": {},
   "source": [
    "--- Day 2: Rock Paper Scissors ---\n",
    "\n",
    "The Elves begin to set up camp on the beach. To decide whose tent gets to be closest to the snack storage, a giant Rock Paper Scissors tournament is already in progress.\n",
    "\n",
    "Rock Paper Scissors is a game between two players. Each game contains many rounds; in each round, the players each simultaneously choose one of Rock, Paper, or Scissors using a hand shape. Then, a winner for that round is selected: Rock defeats Scissors, Scissors defeats Paper, and Paper defeats Rock. If both players choose the same shape, the round instead ends in a draw.\n",
    "\n",
    "Appreciative of your help yesterday, one Elf gives you an encrypted strategy guide (your puzzle input) that they say will be sure to help you win. \"The first column is what your opponent is going to play: A for Rock, B for Paper, and C for Scissors. The second column--\" Suddenly, the Elf is called away to help with someone's tent.\n",
    "\n",
    "The second column, you reason, must be what you should play in response: X for Rock, Y for Paper, and Z for Scissors. Winning every time would be suspicious, so the responses must have been carefully chosen.\n",
    "\n",
    "The winner of the whole tournament is the player with the highest score. Your total score is the sum of your scores for each round. The score for a single round is the score for the shape you selected (1 for Rock, 2 for Paper, and 3 for Scissors) plus the score for the outcome of the round (0 if you lost, 3 if the round was a draw, and 6 if you won).\n",
    "\n",
    "Since you can't be sure if the Elf is trying to help you or trick you, you should calculate the score you would get if you were to follow the strategy guide.\n",
    "\n",
    "For example, suppose you were given the following strategy guide:\n",
    "\n",
    "    A Y\n",
    "    B X\n",
    "    C Z\n",
    "\n",
    "This strategy guide predicts and recommends the following:\n",
    "\n",
    "In the first round, your opponent will choose Rock (A), and you should choose Paper (Y). This ends in a win for you with a score of 8 (2 because you chose Paper + 6 because you won).\n",
    "In the second round, your opponent will choose Paper (B), and you should choose Rock (X). This ends in a loss for you with a score of 1 (1 + 0).\n",
    "The third round is a draw with both players choosing Scissors, giving you a score of 3 + 3 = 6.\n",
    "In this example, if you were to follow the strategy guide, you would get a total score of 15 (8 + 1 + 6).\n",
    "\n",
    "What would your total score be if everything goes exactly according to your strategy guide?"
   ]
  },
  {
   "cell_type": "code",
   "execution_count": 15,
   "metadata": {},
   "outputs": [
    {
     "data": {
      "text/plain": [
       "[['B', 'X'], ['B', 'Y'], ['A', 'Y']]"
      ]
     },
     "execution_count": 15,
     "metadata": {},
     "output_type": "execute_result"
    }
   ],
   "source": [
    "strategy = list()\n",
    "with open(\"strategy.txt\", \"r\") as f:\n",
    "    for line in f:\n",
    "        strategy.append(line.split())\n",
    "strategy[:3]"
   ]
  },
  {
   "cell_type": "code",
   "execution_count": 73,
   "metadata": {},
   "outputs": [
    {
     "data": {
      "text/plain": [
       "6"
      ]
     },
     "execution_count": 73,
     "metadata": {},
     "output_type": "execute_result"
    }
   ],
   "source": [
    "# A and X = Rock, B and Y = Paper, C and Z = Scissors\n",
    "outcome_scores = {\n",
    "    \"AX\": 3,  # draw\n",
    "    \"AY\": 6,  # win\n",
    "    \"AZ\": 0,  # lose\n",
    "    \"BX\": 0,\n",
    "    \"BY\": 3,\n",
    "    \"BZ\": 6,\n",
    "    \"CX\": 6,\n",
    "    \"CY\": 0,\n",
    "    \"CZ\": 3,\n",
    "}\n",
    "\n",
    "\n",
    "def round_score(pair):\n",
    "    \"\"\"Returns the score of a round.\n",
    "        A = Rock\n",
    "        B = Paper\n",
    "        C = Scissors\n",
    "\n",
    "        X = Rock\n",
    "        Y = Paper\n",
    "        Z = Scissors\n",
    "    \"\"\"\n",
    "\n",
    "    my_choice = ord(pair[1]) - 87\n",
    "    round_str = \"\".join(pair)\n",
    "    my_score = outcome_scores[round_str]\n",
    "    my_total_score = my_choice + my_score\n",
    "\n",
    "    return my_total_score\n",
    "\n",
    "round_score(['C', 'Z'])"
   ]
  },
  {
   "cell_type": "code",
   "execution_count": 74,
   "metadata": {},
   "outputs": [
    {
     "name": "stdout",
     "output_type": "stream",
     "text": [
      "15691\n"
     ]
    }
   ],
   "source": [
    "my_total_score = 0\n",
    "their_total_score = 0\n",
    "for round in strategy:\n",
    "    my_score = round_score(round)\n",
    "    my_total_score += my_score\n",
    "\n",
    "print(my_total_score)"
   ]
  },
  {
   "cell_type": "markdown",
   "metadata": {},
   "source": [
    "Attempts:\n",
    "\n",
    "I thought it was not certain that XYZ were rock, paper and scissors. So I made a rotation and then chose the outcome that would give me the lowest winning margin to make it less obvious. That means I also calculated my opponent's score...\n",
    "\n",
    "But I was wrong. XYZ were indeed rock, paper and scissors. I fixed the code accordingly to only get 1 response; the correct one.\n",
    "\n",
    "- 12489\n",
    "- 13522\n",
    "- 15691 --> correct"
   ]
  },
  {
   "cell_type": "markdown",
   "metadata": {},
   "source": [
    "--- Part Two ---\n",
    "\n",
    "The Elf finishes helping with the tent and sneaks back over to you. \"Anyway, the second column says how the round needs to end: X means you need to lose, Y means you need to end the round in a draw, and Z means you need to win. Good luck!\"\n",
    "\n",
    "The total score is still calculated in the same way, but now you need to figure out what shape to choose so the round ends as indicated. The example above now goes like this:\n",
    "\n",
    "In the first round, your opponent will choose Rock (A), and you need the round to end in a draw (Y), so you also choose Rock. This gives you a score of 1 + 3 = 4.\n",
    "In the second round, your opponent will choose Paper (B), and you choose Rock so you lose (X) with a score of 1 + 0 = 1.\n",
    "In the third round, you will defeat your opponent's Scissors with Rock for a score of 1 + 6 = 7.\n",
    "Now that you're correctly decrypting the ultra top secret strategy guide, you would get a total score of 12.\n",
    "\n",
    "Following the Elf's instructions for the second column, what would your total score be if everything goes exactly according to your strategy guide?"
   ]
  },
  {
   "cell_type": "code",
   "execution_count": 62,
   "metadata": {},
   "outputs": [],
   "source": [
    "winning_move = {\n",
    "    \"A\": \"B\",   # if I see rock I play paper\n",
    "    \"B\": \"C\",\n",
    "    \"C\": \"A\",\n",
    "}\n",
    "\n",
    "losing_move = {\n",
    "    \"A\": \"C\",   # if I see rock I play scissors\n",
    "    \"B\": \"A\",\n",
    "    \"C\": \"B\",\n",
    "}"
   ]
  },
  {
   "cell_type": "code",
   "execution_count": 75,
   "metadata": {},
   "outputs": [
    {
     "data": {
      "text/plain": [
       "'X'"
      ]
     },
     "execution_count": 75,
     "metadata": {},
     "output_type": "execute_result"
    }
   ],
   "source": [
    "def decide_my_move(opponent, outcome):\n",
    "    \"\"\"Returns the move I should make based on the opponent's move and the outcome of the round.\n",
    "        X = lose\n",
    "        Y = draw\n",
    "        Z = win\n",
    "    \"\"\"\n",
    "\n",
    "    if outcome == \"X\":\n",
    "        return chr(ord(losing_move[opponent]) + 23)   # e.g. convert \"A\" to \"Z\"\n",
    "\n",
    "    if outcome == \"Y\":\n",
    "        return chr(ord(opponent) + 23)   # e.g. convert \"A\" to \"X\"\n",
    "    \n",
    "    if outcome == \"Z\":\n",
    "        return chr(ord(winning_move[opponent]) + 23)   # e.g. convert \"A\" to \"Y\"\n",
    "\n",
    "decide_my_move(*[\"C\", \"Z\"])"
   ]
  },
  {
   "cell_type": "code",
   "execution_count": 79,
   "metadata": {},
   "outputs": [
    {
     "data": {
      "text/plain": [
       "1"
      ]
     },
     "execution_count": 79,
     "metadata": {},
     "output_type": "execute_result"
    }
   ],
   "source": [
    "def round_score(pair):\n",
    "    \"\"\"Returns the score of a round.\n",
    "    \"\"\"\n",
    "\n",
    "    my_choice = decide_my_move(*pair)\n",
    "    my_choice_score = ord(my_choice) - 87\n",
    "    round_str = \"\".join(pair[0] + my_choice)\n",
    "    my_score = outcome_scores[round_str]\n",
    "    my_total_score = my_choice_score + my_score\n",
    "\n",
    "    return my_total_score\n",
    "\n",
    "round_score(['B', 'X'])"
   ]
  },
  {
   "cell_type": "code",
   "execution_count": 80,
   "metadata": {},
   "outputs": [
    {
     "name": "stdout",
     "output_type": "stream",
     "text": [
      "12989\n"
     ]
    }
   ],
   "source": [
    "my_total_score = 0\n",
    "their_total_score = 0\n",
    "for round in strategy:\n",
    "    my_score = round_score(round)\n",
    "    my_total_score += my_score\n",
    "\n",
    "print(my_total_score)"
   ]
  }
 ],
 "metadata": {
  "kernelspec": {
   "display_name": "Python 3.11.0 ('datasci')",
   "language": "python",
   "name": "python3"
  },
  "language_info": {
   "codemirror_mode": {
    "name": "ipython",
    "version": 3
   },
   "file_extension": ".py",
   "mimetype": "text/x-python",
   "name": "python",
   "nbconvert_exporter": "python",
   "pygments_lexer": "ipython3",
   "version": "3.11.0"
  },
  "orig_nbformat": 4,
  "vscode": {
   "interpreter": {
    "hash": "6396b1a6e95c5e64028c4be82a26719208e577f8c968a385abb8ba9bea42e977"
   }
  }
 },
 "nbformat": 4,
 "nbformat_minor": 2
}
