{
 "cells": [
  {
   "cell_type": "markdown",
   "metadata": {},
   "source": [
    "--- Day 7: No Space Left On Device ---\n",
    "\n",
    "You can hear birds chirping and raindrops hitting leaves as the expedition proceeds. Occasionally, you can even hear much louder sounds in the distance; how big do the animals get out here, anyway?\n",
    "\n",
    "The device the Elves gave you has problems with more than just its communication system. You try to run a system update:\n",
    "\n",
    "    $ system-update --please --pretty-please-with-sugar-on-top\n",
    "    Error: No space left on device\n",
    "    Perhaps you can delete some files to make space for the update?\n",
    "\n",
    "You browse around the filesystem to assess the situation and save the resulting terminal output (your puzzle input). For example:\n",
    "\n",
    "    $ cd /\n",
    "    $ ls\n",
    "    dir a\n",
    "    14848514 b.txt\n",
    "    8504156 c.dat\n",
    "    dir d\n",
    "    $ cd a\n",
    "    $ ls\n",
    "    dir e\n",
    "    29116 f\n",
    "    2557 g\n",
    "    62596 h.lst\n",
    "    $ cd e\n",
    "    $ ls\n",
    "    584 i\n",
    "    $ cd ..\n",
    "    $ cd ..\n",
    "    $ cd d\n",
    "    $ ls\n",
    "    4060174 j\n",
    "    8033020 d.log\n",
    "    5626152 d.ext\n",
    "    7214296 k\n",
    "\n",
    "The filesystem consists of a tree of files (plain data) and directories (which can contain other directories or files). The outermost directory is called /. You can navigate around the filesystem, moving into or out of directories and listing the contents of the directory you're currently in.\n",
    "\n",
    "Within the terminal output, lines that begin with $ are commands you executed, very much like some modern computers:\n",
    "\n",
    "    cd means change directory. This changes which directory is the current directory, but the specific result depends on the argument:\n",
    "    cd x moves in one level: it looks in the current directory for the directory named x and makes it the current directory.\n",
    "    cd .. moves out one level: it finds the directory that contains the current directory, then makes that directory the current directory.\n",
    "    cd / switches the current directory to the outermost directory, /.\n",
    "    ls means list. It prints out all of the files and directories immediately contained by the current directory:\n",
    "    123 abc means that the current directory contains a file named abc with size 123.\n",
    "    dir xyz means that the current directory contains a directory named xyz.\n",
    "\n",
    "Given the commands and output in the example above, you can determine that the filesystem looks visually like this:\n",
    "\n",
    "- / (dir)\n",
    "  - a (dir)\n",
    "    - e (dir)\n",
    "      - i (file, size=584)\n",
    "    - f (file, size=29116)\n",
    "    - g (file, size=2557)\n",
    "    - h.lst (file, size=62596)\n",
    "  - b.txt (file, size=14848514)\n",
    "  - c.dat (file, size=8504156)\n",
    "  - d (dir)\n",
    "    - j (file, size=4060174)\n",
    "    - d.log (file, size=8033020)\n",
    "    - d.ext (file, size=5626152)\n",
    "    - k (file, size=7214296)\n",
    "\n",
    "Here, there are four directories: / (the outermost directory), a and d (which are in /), and e (which is in a). These directories also contain files of various sizes.\n",
    "\n",
    "Since the disk is full, your first step should probably be to find directories that are good candidates for deletion. To do this, you need to determine the total size of each directory. The total size of a directory is the sum of the sizes of the files it contains, directly or indirectly. (Directories themselves do not count as having any intrinsic size.)\n",
    "\n",
    "The total sizes of the directories above can be found as follows:\n",
    "\n",
    "The total size of directory e is 584 because it contains a single file i of size 584 and no other directories.\n",
    "The directory a has total size 94853 because it contains files f (size 29116), g (size 2557), and h.lst (size 62596), plus file i indirectly (a contains e which contains i).\n",
    "Directory d has total size 24933642.\n",
    "As the outermost directory, / contains every file. Its total size is 48381165, the sum of the size of every file.\n",
    "To begin, find all of the directories with a total size of at most 100000, then calculate the sum of their total sizes. In the example above, these directories are a and e; the sum of their total sizes is 95437 (94853 + 584). (As in this example, this process can count files more than once!)\n",
    "\n",
    "Find all of the directories with a total size of at most 100000. What is the sum of the total sizes of those directories?"
   ]
  },
  {
   "cell_type": "code",
   "execution_count": 118,
   "metadata": {},
   "outputs": [],
   "source": [
    "import re"
   ]
  },
  {
   "cell_type": "code",
   "execution_count": 162,
   "metadata": {},
   "outputs": [],
   "source": [
    "with open(\"input.txt\", \"r\") as f:\n",
    "    lines = f.read().splitlines()"
   ]
  },
  {
   "cell_type": "code",
   "execution_count": 163,
   "metadata": {},
   "outputs": [],
   "source": [
    "# linked lists\n",
    "class Node():\n",
    "    def __init__(self, name, parent=None, size=None):\n",
    "        self.name = name\n",
    "        self.parent = parent\n",
    "        self.size = size\n",
    "        self.children = dict()\n",
    "\n",
    "    def __repr__(self):\n",
    "        return f\"{self.name}\"\n",
    "\n",
    "    def get_child(self, child_name):\n",
    "        if child_name in self.children:\n",
    "            return self.children[child_name]\n",
    "        else:\n",
    "            return None\n",
    "\n",
    "    def get_children(self):\n",
    "        return list(self.children.values())\n",
    "\n",
    "    def add_child(self, name, size=None):\n",
    "        if self.get_child(name):\n",
    "            print(\"Child already exists\")\n",
    "            return self.get_child(name)\n",
    "        else:\n",
    "            child = Node(name, self, size)\n",
    "            self.children[name] = child\n",
    "            return child\n",
    "\n",
    "\n",
    "    def total_size(self):\n",
    "        if self.size:\n",
    "            return self.size\n",
    "        else:\n",
    "            return sum([child.total_size() for child in self.children.values()])"
   ]
  },
  {
   "cell_type": "code",
   "execution_count": 164,
   "metadata": {},
   "outputs": [],
   "source": [
    "root = Node(\"/\")\n",
    "current = root\n",
    "dirs = []\n",
    "\n",
    "for line in lines[1:]:\n",
    "    if line == \"$ ls\":\n",
    "        continue\n",
    "\n",
    "    elif re.search(\"(^\\d)|(^dir)\", line):\n",
    "        size, name = line.split()\n",
    "        if size != \"dir\":\n",
    "            size = int(size)\n",
    "            current.add_child(name, size)\n",
    "        else:\n",
    "            child = current.add_child(name)\n",
    "            dirs.append(child)\n",
    "        # print(f\"Adding '{name}' to {current}\")\n",
    "\n",
    "    elif line.startswith(\"$ cd\"):\n",
    "        dir = line.split()[-1]\n",
    "        if dir == \"..\":\n",
    "            current = current.parent\n",
    "            # print(f\"Going up to {current}\")\n",
    "        else:\n",
    "            current = current.get_child(dir)\n",
    "            # print(f\"Going down to {current}\")\n",
    "\n",
    "    else:\n",
    "        print(\"Missing case:\", line)"
   ]
  },
  {
   "cell_type": "code",
   "execution_count": 170,
   "metadata": {},
   "outputs": [
    {
     "data": {
      "text/plain": [
       "1297683"
      ]
     },
     "execution_count": 170,
     "metadata": {},
     "output_type": "execute_result"
    }
   ],
   "source": [
    "small_dirs = [dir for dir in dirs if dir.total_size() <= 100000]\n",
    "\n",
    "sum([dir.total_size() for dir in small_dirs])"
   ]
  },
  {
   "cell_type": "markdown",
   "metadata": {},
   "source": [
    "- 25, wrong anser. I counted the number of directories with size <= 100000, but that was not the question. I had to sum the sizes of those directories.\n",
    "- 1297683 is the right answer."
   ]
  },
  {
   "cell_type": "markdown",
   "metadata": {},
   "source": [
    "--- Part Two ---\n",
    "\n",
    "Now, you're ready to choose a directory to delete.\n",
    "\n",
    "The total disk space available to the filesystem is 70000000. To run the update, you need unused space of at least 30000000. You need to find a directory you can delete that will free up enough space to run the update.\n",
    "\n",
    "In the example above, the total size of the outermost directory (and thus the total amount of used space) is 48381165; this means that the size of the unused space must currently be 21618835, which isn't quite the 30000000 required by the update. Therefore, the update still requires a directory with total size of at least 8381165 to be deleted before it can run.\n",
    "\n",
    "To achieve this, you have the following options:\n",
    "\n",
    "    Delete directory e, which would increase unused space by 584.\n",
    "    Delete directory a, which would increase unused space by 94853.\n",
    "    Delete directory d, which would increase unused space by 24933642.\n",
    "    Delete directory /, which would increase unused space by 48381165.\n",
    "    Directories e and a are both too small; deleting them would not free up enough space. However, directories d and / are both big enough! Between these, choose the smallest: d, increasing unused space by 24933642.\n",
    "\n",
    "Find the smallest directory that, if deleted, would free up enough space on the filesystem to run the update. What is the total size of that directory?"
   ]
  },
  {
   "cell_type": "code",
   "execution_count": 169,
   "metadata": {},
   "outputs": [
    {
     "data": {
      "text/plain": [
       "4804833"
      ]
     },
     "execution_count": 169,
     "metadata": {},
     "output_type": "execute_result"
    }
   ],
   "source": [
    "total_space = 70000000\n",
    "min_available = 30000000\n",
    "used_space = root.total_size()\n",
    "available_space = total_space - used_space\n",
    "space_needed = min_available - available_space\n",
    "space_needed"
   ]
  },
  {
   "cell_type": "code",
   "execution_count": 179,
   "metadata": {},
   "outputs": [
    {
     "data": {
      "text/plain": [
       "['11152310 hmwqgjnl',\n",
       " '11351037 zwlpm',\n",
       " '43189731 dscbfp',\n",
       " '5756764 dscbfp',\n",
       " '6600089 wqc',\n",
       " '7638482 mmhtpz',\n",
       " '8050397 wrb',\n",
       " '9427614 qdztzhl',\n",
       " '9735449 rgvvz']"
      ]
     },
     "execution_count": 179,
     "metadata": {},
     "output_type": "execute_result"
    }
   ],
   "source": [
    "large_enough_dirs = [f\"{dir.total_size()} {dir}\" for dir in dirs if dir.total_size() >= space_needed]\n",
    "large_enough_dirs.sort()\n",
    "large_enough_dirs"
   ]
  },
  {
   "cell_type": "markdown",
   "metadata": {},
   "source": [
    "5756764 was the right answer. I could have done this in a more efficient way, but I was too lazy."
   ]
  }
 ],
 "metadata": {
  "kernelspec": {
   "display_name": "Python 3.11.0 ('datasci')",
   "language": "python",
   "name": "python3"
  },
  "language_info": {
   "codemirror_mode": {
    "name": "ipython",
    "version": 3
   },
   "file_extension": ".py",
   "mimetype": "text/x-python",
   "name": "python",
   "nbconvert_exporter": "python",
   "pygments_lexer": "ipython3",
   "version": "3.11.0"
  },
  "orig_nbformat": 4,
  "vscode": {
   "interpreter": {
    "hash": "6396b1a6e95c5e64028c4be82a26719208e577f8c968a385abb8ba9bea42e977"
   }
  }
 },
 "nbformat": 4,
 "nbformat_minor": 2
}
