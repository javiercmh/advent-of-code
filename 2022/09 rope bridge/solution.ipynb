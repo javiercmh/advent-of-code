{
 "cells": [
  {
   "cell_type": "markdown",
   "metadata": {},
   "source": [
    "# Day 9: Rope Bridge\n",
    "\n",
    "[From now on, I won't copy everything. I will just write a short summary.]\n",
    "\n",
    "## Part 1\n",
    "\n",
    "### Rules of the map\n",
    "\n",
    "Model a rope, represented by its head and tail, in a 2D plane.\n",
    "\n",
    "The head (H) and tail (T) must always be touching (diagonally adjacent and even overlapping both count as touching):\n",
    "\n",
    "    ....\n",
    "    .TH.\n",
    "    ....\n",
    "\n",
    "    ....\n",
    "    .H..\n",
    "    ..T.\n",
    "    ....\n",
    "\n",
    "    ...\n",
    "    .H. (H covers T)\n",
    "    ...\n",
    "\n",
    "If the head is ever two steps directly up, down, left, or right from the tail, the tail must also move one step in that direction so it remains close enough:\n",
    "\n",
    "    .....    .....    .....\n",
    "    .TH.. -> .T.H. -> ..TH.\n",
    "    .....    .....    .....\n",
    "\n",
    "    ...    ...    ...\n",
    "    .T.    .T.    ...\n",
    "    .H. -> ... -> .T.\n",
    "    ...    .H.    .H.\n",
    "    ...    ...    ...\n",
    "\n",
    "Otherwise, if the head and tail aren't touching and aren't in the same row or column, the tail always moves one step diagonally to keep up:\n",
    "\n",
    "    .....    .....    .....\n",
    "    .....    ..H..    ..H..\n",
    "    ..H.. -> ..... -> ..T..\n",
    "    .T...    .T...    .....\n",
    "    .....    .....    .....\n",
    "\n",
    "    .....    .....    .....\n",
    "    .....    .....    .....\n",
    "    ..H.. -> ...H. -> ..TH.\n",
    "    .T...    .T...    .....\n",
    "    .....    .....    .....\n",
    "\n",
    "[In other words, the behaviour of the T in this case is the same as the previous case: it will move according to the H, not according to T.]"
   ]
  },
  {
   "cell_type": "markdown",
   "metadata": {},
   "source": [
    "### Regarding the input\n",
    "\n",
    "You just need to work out where the tail goes as the head follows a series of motions. Assume the head and the tail both start at the same position, overlapping.\n",
    "\n",
    "For example:\n",
    "\n",
    "    R 4\n",
    "    U 4\n",
    "    L 3\n",
    "    D 1\n",
    "    R 4\n",
    "    D 1\n",
    "    L 5\n",
    "    R 2\n",
    "\n",
    "This series of motions moves the head right four steps, then up four steps, then left three steps, then down one step, and so on. After each step, you'll need to update the position of the tail if the step means the head is no longer adjacent to the tail. Visually, these motions occur as follows (s marks the starting position as a reference point):\n",
    "\n",
    "== Initial State ==\n",
    "\n",
    "    ......\n",
    "    ......\n",
    "    ......\n",
    "    ......\n",
    "    H.....  (H covers T, s)\n",
    "\n",
    "== R 4 ==\n",
    "\n",
    "    ......\n",
    "    ......\n",
    "    ......\n",
    "    ......\n",
    "    TH....  (T covers s)\n",
    "\n",
    "    ......\n",
    "    ......\n",
    "    ......\n",
    "    ......\n",
    "    sTH...\n",
    "\n",
    "...\n",
    "\n",
    "After simulating the rope, you can count up all of the positions the tail visited at least once. In this diagram, s again marks the starting position (which the tail also visited) and # marks other positions the tail visited:\n",
    "\n",
    "    ..##..\n",
    "    ...##.\n",
    "    .####.\n",
    "    ....#.\n",
    "    s###..\n",
    "\n",
    "So, there are 13 positions the tail visited at least once.\n",
    "\n",
    "Simulate your complete hypothetical series of motions. How many positions does the tail of the rope visit at least once?"
   ]
  },
  {
   "cell_type": "markdown",
   "metadata": {},
   "source": [
    "We'll put everything in a dataframe with the following columns:\n",
    "- The movements (R, U, L, D) (each one representing a single movement)\n",
    "- Each head position (x, y)\n",
    "- Each tail position (x, y)"
   ]
  },
  {
   "cell_type": "code",
   "execution_count": 1,
   "metadata": {},
   "outputs": [],
   "source": [
    "import numpy as np\n",
    "import pandas as pd\n",
    "import matplotlib.pyplot as plt"
   ]
  },
  {
   "cell_type": "code",
   "execution_count": 2,
   "metadata": {},
   "outputs": [
    {
     "data": {
      "text/html": [
       "<div>\n",
       "<style scoped>\n",
       "    .dataframe tbody tr th:only-of-type {\n",
       "        vertical-align: middle;\n",
       "    }\n",
       "\n",
       "    .dataframe tbody tr th {\n",
       "        vertical-align: top;\n",
       "    }\n",
       "\n",
       "    .dataframe thead th {\n",
       "        text-align: right;\n",
       "    }\n",
       "</style>\n",
       "<table border=\"1\" class=\"dataframe\">\n",
       "  <thead>\n",
       "    <tr style=\"text-align: right;\">\n",
       "      <th></th>\n",
       "      <th>direction</th>\n",
       "    </tr>\n",
       "  </thead>\n",
       "  <tbody>\n",
       "    <tr>\n",
       "      <th>0</th>\n",
       "      <td>S</td>\n",
       "    </tr>\n",
       "    <tr>\n",
       "      <th>1</th>\n",
       "      <td>R</td>\n",
       "    </tr>\n",
       "    <tr>\n",
       "      <th>2</th>\n",
       "      <td>R</td>\n",
       "    </tr>\n",
       "    <tr>\n",
       "      <th>3</th>\n",
       "      <td>R</td>\n",
       "    </tr>\n",
       "    <tr>\n",
       "      <th>4</th>\n",
       "      <td>R</td>\n",
       "    </tr>\n",
       "  </tbody>\n",
       "</table>\n",
       "</div>"
      ],
      "text/plain": [
       "  direction\n",
       "0         S\n",
       "1         R\n",
       "2         R\n",
       "3         R\n",
       "4         R"
      ]
     },
     "execution_count": 2,
     "metadata": {},
     "output_type": "execute_result"
    }
   ],
   "source": [
    "with open(\"sample input.txt\", \"r\") as f:\n",
    "    lines = f.read().splitlines()\n",
    "\n",
    "movements = [\"S\"]\n",
    "for line in lines:    \n",
    "    dir, steps = line.split()\n",
    "    movements.extend([dir for i in range(int(steps))])\n",
    "\n",
    "# create dataframe with movements as column\n",
    "rope_df = pd.DataFrame(movements, columns=[\"direction\"])\n",
    "rope_df.head()"
   ]
  },
  {
   "cell_type": "code",
   "execution_count": 3,
   "metadata": {},
   "outputs": [
    {
     "data": {
      "text/html": [
       "<div>\n",
       "<style scoped>\n",
       "    .dataframe tbody tr th:only-of-type {\n",
       "        vertical-align: middle;\n",
       "    }\n",
       "\n",
       "    .dataframe tbody tr th {\n",
       "        vertical-align: top;\n",
       "    }\n",
       "\n",
       "    .dataframe thead th {\n",
       "        text-align: right;\n",
       "    }\n",
       "</style>\n",
       "<table border=\"1\" class=\"dataframe\">\n",
       "  <thead>\n",
       "    <tr style=\"text-align: right;\">\n",
       "      <th></th>\n",
       "      <th>direction</th>\n",
       "      <th>coordinates_head</th>\n",
       "    </tr>\n",
       "  </thead>\n",
       "  <tbody>\n",
       "    <tr>\n",
       "      <th>0</th>\n",
       "      <td>S</td>\n",
       "      <td>(0, 0)</td>\n",
       "    </tr>\n",
       "    <tr>\n",
       "      <th>1</th>\n",
       "      <td>R</td>\n",
       "      <td>(1, 0)</td>\n",
       "    </tr>\n",
       "    <tr>\n",
       "      <th>2</th>\n",
       "      <td>R</td>\n",
       "      <td>(2, 0)</td>\n",
       "    </tr>\n",
       "    <tr>\n",
       "      <th>3</th>\n",
       "      <td>R</td>\n",
       "      <td>(3, 0)</td>\n",
       "    </tr>\n",
       "    <tr>\n",
       "      <th>4</th>\n",
       "      <td>R</td>\n",
       "      <td>(4, 0)</td>\n",
       "    </tr>\n",
       "  </tbody>\n",
       "</table>\n",
       "</div>"
      ],
      "text/plain": [
       "  direction coordinates_head\n",
       "0         S           (0, 0)\n",
       "1         R           (1, 0)\n",
       "2         R           (2, 0)\n",
       "3         R           (3, 0)\n",
       "4         R           (4, 0)"
      ]
     },
     "execution_count": 3,
     "metadata": {},
     "output_type": "execute_result"
    }
   ],
   "source": [
    "def get_coordinates_head(directions):\n",
    "    \"\"\"Converts directions to coordinates of the head\"\"\"\n",
    "    \n",
    "    coordinates = []\n",
    "    current = (0, 0)\n",
    "\n",
    "    for dir in directions:\n",
    "        if dir == \"R\":\n",
    "            current = (current[0] + 1, current[1])\n",
    "        elif dir == \"L\":\n",
    "            current = (current[0] - 1, current[1])\n",
    "        elif dir == \"U\":\n",
    "            current = (current[0], current[1] + 1)\n",
    "        elif dir == \"D\":\n",
    "            current = (current[0], current[1] - 1)\n",
    "        coordinates.append(current)\n",
    "    \n",
    "    return coordinates\n",
    "\n",
    "rope_df.loc[:, \"coordinates_head\"] = get_coordinates_head(rope_df.loc[:, \"direction\"])\n",
    "rope_df.head()"
   ]
  },
  {
   "cell_type": "code",
   "execution_count": 4,
   "metadata": {},
   "outputs": [
    {
     "data": {
      "text/html": [
       "<div>\n",
       "<style scoped>\n",
       "    .dataframe tbody tr th:only-of-type {\n",
       "        vertical-align: middle;\n",
       "    }\n",
       "\n",
       "    .dataframe tbody tr th {\n",
       "        vertical-align: top;\n",
       "    }\n",
       "\n",
       "    .dataframe thead th {\n",
       "        text-align: right;\n",
       "    }\n",
       "</style>\n",
       "<table border=\"1\" class=\"dataframe\">\n",
       "  <thead>\n",
       "    <tr style=\"text-align: right;\">\n",
       "      <th></th>\n",
       "      <th>direction</th>\n",
       "      <th>coordinates_head</th>\n",
       "      <th>coordinates_tail</th>\n",
       "    </tr>\n",
       "  </thead>\n",
       "  <tbody>\n",
       "    <tr>\n",
       "      <th>0</th>\n",
       "      <td>S</td>\n",
       "      <td>(0, 0)</td>\n",
       "      <td>(0, 0)</td>\n",
       "    </tr>\n",
       "    <tr>\n",
       "      <th>1</th>\n",
       "      <td>R</td>\n",
       "      <td>(1, 0)</td>\n",
       "      <td>(0, 0)</td>\n",
       "    </tr>\n",
       "    <tr>\n",
       "      <th>2</th>\n",
       "      <td>R</td>\n",
       "      <td>(2, 0)</td>\n",
       "      <td>(1, 0)</td>\n",
       "    </tr>\n",
       "    <tr>\n",
       "      <th>3</th>\n",
       "      <td>R</td>\n",
       "      <td>(3, 0)</td>\n",
       "      <td>(2, 0)</td>\n",
       "    </tr>\n",
       "    <tr>\n",
       "      <th>4</th>\n",
       "      <td>R</td>\n",
       "      <td>(4, 0)</td>\n",
       "      <td>(3, 0)</td>\n",
       "    </tr>\n",
       "  </tbody>\n",
       "</table>\n",
       "</div>"
      ],
      "text/plain": [
       "  direction coordinates_head coordinates_tail\n",
       "0         S           (0, 0)           (0, 0)\n",
       "1         R           (1, 0)           (0, 0)\n",
       "2         R           (2, 0)           (1, 0)\n",
       "3         R           (3, 0)           (2, 0)\n",
       "4         R           (4, 0)           (3, 0)"
      ]
     },
     "execution_count": 4,
     "metadata": {},
     "output_type": "execute_result"
    }
   ],
   "source": [
    "def get_coordinates_tail(coordinates_head):\n",
    "    \"\"\"Converts coordinates of the head to coordinates of the tail\"\"\"\n",
    "    \n",
    "    coordinates = []\n",
    "    current = (0, 0)\n",
    "    for i, coord in enumerate(coordinates_head):\n",
    "        # if head+1 is > 1 manhattan distance from tail, then tail moves to head\n",
    "\n",
    "        if np.linalg.norm(np.array(coord) - np.array(current)) >= 2:\n",
    "            # update tail\n",
    "            current = coordinates_head[i-1]\n",
    "\n",
    "        coordinates.append(current)\n",
    "    return coordinates\n",
    "\n",
    "# head_coors = [(0, 0), (1, 0), (1, 1), (1, 2), (1, 1)]\n",
    "# print(head_coors)\n",
    "# get_coordinates_tail(head_coors)\n",
    "rope_df.loc[:, \"coordinates_tail\"] = get_coordinates_tail(rope_df.loc[:, \"coordinates_head\"])\n",
    "rope_df.head()"
   ]
  },
  {
   "cell_type": "code",
   "execution_count": 183,
   "metadata": {},
   "outputs": [
    {
     "data": {
      "text/plain": [
       "'Answer: 13'"
      ]
     },
     "execution_count": 183,
     "metadata": {},
     "output_type": "execute_result"
    }
   ],
   "source": [
    "# How many positions does the tail of the rope visit at least once?\n",
    "f'Answer: {len(set(rope_df.loc[:, \"coordinates_tail\"]))}'"
   ]
  },
  {
   "cell_type": "code",
   "execution_count": 184,
   "metadata": {},
   "outputs": [
    {
     "data": {
      "text/plain": [
       "[<matplotlib.lines.Line2D at 0x7ff2fe66ca50>]"
      ]
     },
     "execution_count": 184,
     "metadata": {},
     "output_type": "execute_result"
    },
    {
     "data": {
      "image/png": "[encoded data removed]",
      "text/plain": [
       "<Figure size 640x480 with 1 Axes>"
      ]
     },
     "metadata": {},
     "output_type": "display_data"
    }
   ],
   "source": [
    "# plot coordinates of the head and tail\n",
    "\n",
    "plt.plot(rope_df[\"coordinates_head\"].apply(lambda x: x[0]), rope_df[\"coordinates_head\"].apply(lambda x: x[1]), label=\"head\")\n",
    "plt.plot(rope_df[\"coordinates_tail\"].apply(lambda x: x[0]), rope_df[\"coordinates_tail\"].apply(lambda x: x[1]), label=\"tail\")"
   ]
  },
  {
   "cell_type": "markdown",
   "metadata": {},
   "source": [
    "## Part 2\n",
    "\n",
    "Now instead of 1 tail, the rope is 10 knots long; H, 1, ... 9.\n",
    "\n",
    "Also, the way the position of the knots are updated must be different. Instead of moving to the previous position of the head (or the previous knot), they move in the direction it went. Although my approach had identical results, it won't work for more knots.\n",
    "\n",
    "Example of going up:\n",
    "\n",
    "    ......\n",
    "    ......\n",
    "    ......\n",
    "    ....H.\n",
    "    4321..  (4 covers 5, 6, 7, 8, 9, s)\n",
    "\n",
    "    ......\n",
    "    ......\n",
    "    ....H.\n",
    "    .4321.\n",
    "    5.....  (5 covers 6, 7, 8, 9, s)\n",
    "\n",
    "Also note that each knot has a minimum distance to the head."
   ]
  },
  {
   "cell_type": "markdown",
   "metadata": {},
   "source": [
    "I will use this new approach and, as I said before, it should yield the same results. Then I can generalize it to any number of knots.\n",
    "For this I will use the list of directions instead of the coordinates of head."
   ]
  },
  {
   "cell_type": "code",
   "execution_count": 20,
   "metadata": {},
   "outputs": [
    {
     "data": {
      "text/html": [
       "<div>\n",
       "<style scoped>\n",
       "    .dataframe tbody tr th:only-of-type {\n",
       "        vertical-align: middle;\n",
       "    }\n",
       "\n",
       "    .dataframe tbody tr th {\n",
       "        vertical-align: top;\n",
       "    }\n",
       "\n",
       "    .dataframe thead th {\n",
       "        text-align: right;\n",
       "    }\n",
       "</style>\n",
       "<table border=\"1\" class=\"dataframe\">\n",
       "  <thead>\n",
       "    <tr style=\"text-align: right;\">\n",
       "      <th></th>\n",
       "      <th>0</th>\n",
       "    </tr>\n",
       "  </thead>\n",
       "  <tbody>\n",
       "    <tr>\n",
       "      <th>0</th>\n",
       "      <td>(0, 0)</td>\n",
       "    </tr>\n",
       "    <tr>\n",
       "      <th>1</th>\n",
       "      <td>(0, 1)</td>\n",
       "    </tr>\n",
       "    <tr>\n",
       "      <th>2</th>\n",
       "      <td>(0, 2)</td>\n",
       "    </tr>\n",
       "    <tr>\n",
       "      <th>3</th>\n",
       "      <td>(0, 1)</td>\n",
       "    </tr>\n",
       "    <tr>\n",
       "      <th>4</th>\n",
       "      <td>(0, 0)</td>\n",
       "    </tr>\n",
       "  </tbody>\n",
       "</table>\n",
       "</div>"
      ],
      "text/plain": [
       "        0\n",
       "0  (0, 0)\n",
       "1  (0, 1)\n",
       "2  (0, 2)\n",
       "3  (0, 1)\n",
       "4  (0, 0)"
      ]
     },
     "execution_count": 20,
     "metadata": {},
     "output_type": "execute_result"
    }
   ],
   "source": [
    "with open(\"input.txt\", \"r\") as f:\n",
    "    lines = f.read().splitlines()\n",
    "\n",
    "movements = [\"S\"]\n",
    "for line in lines:    \n",
    "    dir, steps = line.split()\n",
    "    movements.extend([dir for i in range(int(steps))])\n",
    "\n",
    "# create dataframe with movements as column\n",
    "rope_df = pd.DataFrame(movements, columns=[\"direction\"])\n",
    "\n",
    "rope_df.loc[:, 0] = get_coordinates_head(rope_df.loc[:, \"direction\"])\n",
    "rope_df.drop(columns=[\"direction\"], inplace=True)\n",
    "rope_df.head()"
   ]
  },
  {
   "cell_type": "code",
   "execution_count": 21,
   "metadata": {},
   "outputs": [],
   "source": [
    "def get_coordinates_tail(coordinates_head):\n",
    "    \"\"\"Converts coordinates of the head to coordinates of the tail\"\"\"\n",
    "\n",
    "    len_head = len(coordinates_head)\n",
    "    coordinates = []\n",
    "\n",
    "    current = (0, 0)\n",
    "    for i, head in enumerate(coordinates_head):\n",
    "        difference = np.sign(np.array(head) - np.array(current))\n",
    "\n",
    "        if np.linalg.norm(np.array(head) - np.array(current)) >= 2:\n",
    "            # update tail\n",
    "            current = tuple(np.array(current) + difference)\n",
    "            \n",
    "        coordinates.append(current)\n",
    "\n",
    "    return pd.Series(coordinates)\n",
    "\n",
    "total_knots = 10\n",
    "for i in range(1, total_knots):\n",
    "    rope_df.loc[:, i] = get_coordinates_tail(rope_df.loc[:, i-1])\n",
    "rope_df[5:9]"
   ]
  },
  {
   "cell_type": "code",
   "execution_count": 23,
   "metadata": {},
   "outputs": [
    {
     "data": {
      "text/plain": [
       "'Answer: 2455'"
      ]
     },
     "execution_count": 23,
     "metadata": {},
     "output_type": "execute_result"
    }
   ],
   "source": [
    "# How many positions does the tail of the rope visit at least once?\n",
    "f\"Answer: {len(set(rope_df.loc[:, total_knots-1]))}\"\n"
   ]
  }
 ],
 "metadata": {
  "kernelspec": {
   "display_name": "Python 3.11.0 ('datasci')",
   "language": "python",
   "name": "python3"
  },
  "language_info": {
   "codemirror_mode": {
    "name": "ipython",
    "version": 3
   },
   "file_extension": ".py",
   "mimetype": "text/x-python",
   "name": "python",
   "nbconvert_exporter": "python",
   "pygments_lexer": "ipython3",
   "version": "3.11.0"
  },
  "orig_nbformat": 4,
  "vscode": {
   "interpreter": {
    "hash": "6396b1a6e95c5e64028c4be82a26719208e577f8c968a385abb8ba9bea42e977"
   }
  }
 },
 "nbformat": 4,
 "nbformat_minor": 2
}
